{
  "nbformat": 4,
  "nbformat_minor": 0,
  "metadata": {
    "colab": {
      "provenance": [],
      "collapsed_sections": [],
      "machine_shape": "hm",
      "include_colab_link": true
    },
    "kernelspec": {
      "name": "python3",
      "display_name": "Python 3"
    },
    "language_info": {
      "name": "python"
    },
    "accelerator": "GPU",
    "gpuClass": "premium"
  },
  "cells": [
    {
      "cell_type": "markdown",
      "metadata": {
        "id": "view-in-github",
        "colab_type": "text"
      },
      "source": [
        "<a href=\"https://colab.research.google.com/github/kunishou/Talking_Robot/blob/main/04_talking_robot.ipynb\" target=\"_parent\"><img src=\"https://colab.research.google.com/assets/colab-badge.svg\" alt=\"Open In Colab\"/></a>"
      ]
    },
    {
      "cell_type": "code",
      "source": [
        "!nvidia-smi"
      ],
      "metadata": {
        "id": "rrsabdKDpm_Q"
      },
      "execution_count": null,
      "outputs": []
    },
    {
      "cell_type": "code",
      "source": [
        "from google.colab import drive\n",
        "drive.mount('/content/drive')"
      ],
      "metadata": {
        "id": "cly86_Z21J6O"
      },
      "execution_count": null,
      "outputs": []
    },
    {
      "cell_type": "markdown",
      "source": [
        "# VOICEVOX set up"
      ],
      "metadata": {
        "id": "G3iH4xARs-8B"
      }
    },
    {
      "cell_type": "code",
      "source": [
        "# パッケージのクローンとセットアップ\n",
        "!git clone https://github.com/VOICEVOX/voicevox_core -b 0.11.4\n",
        "%cd voicevox_core\n",
        "!python configure.py --use_gpu --voicevox_version 0.11.4\n",
        "\n",
        "# パッケージのインストール\n",
        "!pip install -r -q requirements.txt\n",
        "!pip install -q .\n",
        "\n",
        "# pyopenjtalkのインストール\n",
        "!pip install -q pyopenjtalk"
      ],
      "metadata": {
        "id": "8f1Y4OkOUWXr"
      },
      "execution_count": null,
      "outputs": []
    },
    {
      "cell_type": "markdown",
      "source": [
        "# Whisper set up"
      ],
      "metadata": {
        "id": "t57wYoRos7YI"
      }
    },
    {
      "cell_type": "code",
      "source": [
        "!pip install -q git+https://github.com/openai/whisper.git"
      ],
      "metadata": {
        "id": "mjybCcRXpmwy"
      },
      "execution_count": null,
      "outputs": []
    },
    {
      "cell_type": "code",
      "source": [
        "import whisper\n",
        "model = whisper.load_model(\"large\")"
      ],
      "metadata": {
        "id": "3GJ5PAGJqB16"
      },
      "execution_count": null,
      "outputs": []
    },
    {
      "cell_type": "code",
      "source": [
        "# 英単語→カナ変換用ライブラリ\n",
        "!pip install -q mecab-python3\n",
        "!pip install -q unidic\n",
        "!pip install alkana\n",
        "!python -m unidic download"
      ],
      "metadata": {
        "id": "XdGFa62GRkd-"
      },
      "execution_count": null,
      "outputs": []
    },
    {
      "cell_type": "markdown",
      "source": [
        "# BERT set up"
      ],
      "metadata": {
        "id": "_bmZ-RcNVcR5"
      }
    },
    {
      "cell_type": "code",
      "source": [
        "# Huggingface Transformersのインストール\n",
        "!git clone https://github.com/huggingface/transformers\n",
        "%cd transformers\n",
        "!pip install -q .\n",
        "\n",
        "# 日本語対応パッケージのインストール\n",
        "!pip install -q fugashi[unidic-lite]\n",
        "!pip install -q ipadic\n",
        "\n",
        "# Huggingface Datasetsのインストール\n",
        "!pip install -q datasets"
      ],
      "metadata": {
        "id": "K8sWhLAYx9qA"
      },
      "execution_count": null,
      "outputs": []
    },
    {
      "cell_type": "code",
      "source": [
        "from transformers import BertJapaneseTokenizer, AutoModelForQuestionAnswering\n",
        "import torch\n",
        "\n",
        "# 入力テキスト\n",
        "context = \"私の名前はサンタクロースです。 \\\n",
        "          年齢は26歳です。 \\\n",
        "          北海道に住んでいます。 \\\n",
        "          昨日は東京に出かけました。 \\\n",
        "          好きなイベントはヤフーアドベントカレンダーです。 \\\n",
        "          好きな食べ物はケンタッキーフライドチキンです。 \\\n",
        "          趣味はみんなにプレゼントを配ることです。 \\\n",
        "          得意なプログラミングな言語はパイソンです。 \"\n",
        "\n",
        "\n",
        "question_list = [\"昨日はどこへ出かけましたか？\",\n",
        "                 \"あなたの名前は何ですか？\",\n",
        "                 \"あなたの趣味は何ですか？\",\n",
        "                 \"あなたが好きなイベントは何ですか？\",\n",
        "                 \"あなたが得意プログラミング言語は何ですか？\",\n",
        "                 ]\n",
        "\n",
        "question = question_list[4]\n",
        "\n",
        "# モデルとトークナイザーの準備\n",
        "bert_model = AutoModelForQuestionAnswering.from_pretrained('/content/drive/MyDrive/talking_robot/transformers/output/')  # Fine Tuningしたモデルpathを指定\n",
        "tokenizer = BertJapaneseTokenizer.from_pretrained('cl-tohoku/bert-base-japanese-whole-word-masking') \n",
        "\n",
        "# 推論の実行\n",
        "inputs = tokenizer.encode_plus(question, context, add_special_tokens=True, return_tensors=\"pt\")\n",
        "input_ids = inputs[\"input_ids\"].tolist()[0]\n",
        "output = bert_model(**inputs)\n",
        "answer_start = torch.argmax(output.start_logits)  \n",
        "answer_end = torch.argmax(output.end_logits) + 1 \n",
        "answer = tokenizer.convert_tokens_to_string(tokenizer.convert_ids_to_tokens(input_ids[answer_start:answer_end]))\n",
        "\n",
        "# 結果出力\n",
        "print(\"質問: \"+question)\n",
        "print(f\"応答: {answer}です\")"
      ],
      "metadata": {
        "id": "1-JuC3MHxuDy"
      },
      "execution_count": null,
      "outputs": []
    },
    {
      "cell_type": "code",
      "source": [
        "#@title Talking Robot\n",
        "import glob\n",
        "import librosa\n",
        "import IPython\n",
        "import MeCab\n",
        "import unidic\n",
        "import pandas as pd\n",
        "import alkana\n",
        "import re\n",
        "import os\n",
        "\n",
        "%cd /content/voicevox_core\n",
        "\n",
        "# ローカルPCマイクでの録音設定\n",
        "from IPython.display import Javascript\n",
        "from google.colab import output\n",
        "from base64 import b64decode\n",
        "\n",
        "RECORD = \"\"\"\n",
        "const sleep = time => new Promise(resolve => setTimeout(resolve, time))\n",
        "const b2text = blob => new Promise(resolve => {\n",
        "  const reader = new FileReader()\n",
        "  reader.onloadend = e => resolve(e.srcElement.result)\n",
        "  reader.readAsDataURL(blob)\n",
        "})\n",
        "var record = time => new Promise(async resolve => {\n",
        "  stream = await navigator.mediaDevices.getUserMedia({ audio: true })\n",
        "  recorder = new MediaRecorder(stream)\n",
        "  chunks = []\n",
        "  recorder.ondataavailable = e => chunks.push(e.data)\n",
        "  recorder.start()\n",
        "  await sleep(time)\n",
        "  recorder.onstop = async ()=>{\n",
        "    blob = new Blob(chunks)\n",
        "    text = await b2text(blob)\n",
        "    resolve(text)\n",
        "  }\n",
        "  recorder.stop()\n",
        "})\n",
        "\"\"\"\n",
        "\n",
        "def record(sec, filename='audio.wav'):\n",
        "  display(Javascript(RECORD))\n",
        "  s = output.eval_js('record(%d)' % (sec * 1000))\n",
        "  b = b64decode(s.split(',')[1])\n",
        "  with open(filename, 'wb+') as f:\n",
        "    f.write(b)\n",
        "\n",
        "\n",
        "audiofile = \"audio.wav\"\n",
        "second = 6 #@param {type:\"number\"}\n",
        "print(f\"Speak to your microphone {second} sec...\")\n",
        "record(second, audiofile)\n",
        "print(\"Done!\")\n",
        "\n",
        "result = model.transcribe(\"audio.wav\", verbose=False, language=\"ja\")\n",
        "print(f'{result[\"text\"]}（英カナ変換前）')\n",
        "\n",
        "###英単語→カタカナ変換\n",
        "\n",
        "#半角英字判定\n",
        "alphaReg = re.compile(r'^[a-zA-Z]+$')\n",
        "def isalpha(s):\n",
        "    return alphaReg.match(s) is not None\n",
        "\n",
        "sample_txt = result[\"text\"]\n",
        "\n",
        "wakati = MeCab.Tagger('-Owakati')\n",
        "wakati_result = wakati.parse(sample_txt)\n",
        "#print(wakati_result)\n",
        "\n",
        "df = pd.DataFrame(wakati_result.split(\" \"),columns=[\"word\"])\n",
        "df = df[df[\"word\"].str.isalpha() == True]\n",
        "df[\"english_word\"] = df[\"word\"].apply(isalpha)\n",
        "df = df[df[\"english_word\"] == True]\n",
        "df[\"katakana\"] = df[\"word\"].apply(alkana.get_kana)\n",
        "\n",
        "dict_rep = dict(zip(df[\"word\"], df[\"katakana\"]))\n",
        "\n",
        "for word, read in dict_rep.items():\n",
        "    sample_txt = sample_txt.replace(word, read)\n",
        "\n",
        "sample_txt = sample_txt.replace(\" \", \"\")\n",
        "\n",
        "#半角記号削除\n",
        "#symbolReg = re.compile('[!\"#$%&\\'\\\\\\\\()*+,-./:;<=>?@[\\\\]^_`{|}~「」〔〕“”〈〉『』【】＆＊・（）＄＃＠。、？！｀＋￥％]')\n",
        "#sample_txt = symbolReg.sub(' ', sample_txt)\n",
        "\n",
        "print(f'{sample_txt}（英カナ変換後）')\n",
        "\n",
        "# 推論の実行\n",
        "inputs = tokenizer.encode_plus(sample_txt, context, add_special_tokens=True, return_tensors=\"pt\")\n",
        "input_ids = inputs[\"input_ids\"].tolist()[0]\n",
        "output = bert_model(**inputs)\n",
        "answer_start = torch.argmax(output.start_logits)  \n",
        "answer_end = torch.argmax(output.end_logits) + 1 \n",
        "answer = tokenizer.convert_tokens_to_string(tokenizer.convert_ids_to_tokens(input_ids[answer_start:answer_end]))\n",
        "answer = answer + \"です。\"\n",
        "\n",
        "speacker_id = 0\n",
        "\n",
        "# make answer sound\n",
        "!python /content/voicevox_core/example/python/run.py \\\n",
        "    --text {answer} \\\n",
        "    --speaker_id {speacker_id} \\\n",
        "    --f0_speaker_id 0 \\\n",
        "    --f0_correct 0 \\\n",
        "    --root_dir_path=\"/content/voicevox_core/release\" \\\n",
        "    --use_gpu\n",
        "\n",
        "print(answer)\n",
        "\n",
        "def sound():\n",
        "  audio_path = librosa.util.example_audio_file()\n",
        "  y_full, sr_full = librosa.load(f\"/content/voicevox_core/{answer}-{speacker_id}.wav\")\n",
        "  return IPython.display.Audio(data = y_full, rate=sr_full, autoplay = True)\n",
        "\n",
        "sound()"
      ],
      "metadata": {
        "id": "8kZ24hMixt9i",
        "cellView": "form"
      },
      "execution_count": null,
      "outputs": []
    },
    {
      "cell_type": "code",
      "source": [
        "# GPUの停止\n",
        "from google.colab import runtime\n",
        "runtime.unassign()"
      ],
      "metadata": {
        "id": "eISvKRe3vfec"
      },
      "execution_count": null,
      "outputs": []
    }
  ]
}