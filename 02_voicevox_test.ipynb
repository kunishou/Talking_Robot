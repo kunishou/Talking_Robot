{
  "nbformat": 4,
  "nbformat_minor": 0,
  "metadata": {
    "colab": {
      "provenance": [],
      "collapsed_sections": [],
      "machine_shape": "hm",
      "include_colab_link": true
    },
    "kernelspec": {
      "name": "python3",
      "display_name": "Python 3"
    },
    "language_info": {
      "name": "python"
    },
    "accelerator": "GPU",
    "gpuClass": "premium"
  },
  "cells": [
    {
      "cell_type": "markdown",
      "metadata": {
        "id": "view-in-github",
        "colab_type": "text"
      },
      "source": [
        "<a href=\"https://colab.research.google.com/github/kunishou/Talking_Robot/blob/main/02_voicevox_test.ipynb\" target=\"_parent\"><img src=\"https://colab.research.google.com/assets/colab-badge.svg\" alt=\"Open In Colab\"/></a>"
      ]
    },
    {
      "cell_type": "code",
      "source": [
        "!nvidia-smi"
      ],
      "metadata": {
        "id": "rrsabdKDpm_Q"
      },
      "execution_count": null,
      "outputs": []
    },
    {
      "cell_type": "markdown",
      "source": [
        "# VOICEVOX set up"
      ],
      "metadata": {
        "id": "G3iH4xARs-8B"
      }
    },
    {
      "cell_type": "code",
      "source": [
        "# パッケージのクローンとセットアップ\n",
        "!git clone https://github.com/VOICEVOX/voicevox_core -b 0.11.4\n",
        "%cd voicevox_core\n",
        "!python configure.py --use_gpu --voicevox_version 0.11.4\n",
        "\n",
        "# パッケージのインストール\n",
        "!pip install -r requirements.txt\n",
        "!pip install -q .\n",
        "\n",
        "# pyopenjtalkのインストール\n",
        "!pip install -q pyopenjtalk"
      ],
      "metadata": {
        "id": "VL4haE3ktC5N"
      },
      "execution_count": null,
      "outputs": []
    },
    {
      "cell_type": "code",
      "source": [
        "#@title VOICEVOX Test\n",
        "import librosa\n",
        "import IPython\n",
        "import sys\n",
        "\n",
        "speacker_id = 0\n",
        "\n",
        "text = \"私があの有名なサンタクロースだ！\"\n",
        "\n",
        "!python example/python/run.py \\\n",
        "    --text {text} \\\n",
        "    --speaker_id {speacker_id} \\\n",
        "    --f0_speaker_id 0 \\\n",
        "    --f0_correct 0 \\\n",
        "    --root_dir_path=\"./release\" \\\n",
        "    --use_gpu\n",
        "\n",
        "# 音声再生関数\n",
        "def sound():\n",
        "  audio_path = librosa.util.example_audio_file()\n",
        "  y_full, sr_full = librosa.load(f\"{text}-{speacker_id}.wav\")\n",
        "  return IPython.display.Audio(data = y_full, rate=sr_full, autoplay = True)\n",
        "\n",
        "sound()"
      ],
      "metadata": {
        "id": "3rHHoSj6vo6g"
      },
      "execution_count": null,
      "outputs": []
    },
    {
      "cell_type": "code",
      "source": [
        "# GPUの停止\n",
        "from google.colab import runtime\n",
        "runtime.unassign()"
      ],
      "metadata": {
        "id": "LLdLyXfoLB_z"
      },
      "execution_count": null,
      "outputs": []
    }
  ]
}