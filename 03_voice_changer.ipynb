{
  "nbformat": 4,
  "nbformat_minor": 0,
  "metadata": {
    "colab": {
      "provenance": [],
      "collapsed_sections": [],
      "machine_shape": "hm",
      "include_colab_link": true
    },
    "kernelspec": {
      "name": "python3",
      "display_name": "Python 3"
    },
    "language_info": {
      "name": "python"
    },
    "accelerator": "GPU",
    "gpuClass": "premium"
  },
  "cells": [
    {
      "cell_type": "markdown",
      "metadata": {
        "id": "view-in-github",
        "colab_type": "text"
      },
      "source": [
        "<a href=\"https://colab.research.google.com/github/kunishou/Talking_Robot/blob/main/03_voice_changer.ipynb\" target=\"_parent\"><img src=\"https://colab.research.google.com/assets/colab-badge.svg\" alt=\"Open In Colab\"/></a>"
      ]
    },
    {
      "cell_type": "code",
      "source": [
        "!nvidia-smi"
      ],
      "metadata": {
        "id": "rrsabdKDpm_Q"
      },
      "execution_count": null,
      "outputs": []
    },
    {
      "cell_type": "markdown",
      "source": [
        "# VOICEVOX set up"
      ],
      "metadata": {
        "id": "G3iH4xARs-8B"
      }
    },
    {
      "cell_type": "code",
      "source": [
        "# パッケージのクローンとセットアップ\n",
        "!git clone https://github.com/VOICEVOX/voicevox_core -b 0.11.4\n",
        "%cd voicevox_core\n",
        "!python configure.py --use_gpu --voicevox_version 0.11.4\n",
        "\n",
        "# パッケージのインストール\n",
        "!pip install -r -q requirements.txt\n",
        "!pip install -q .\n",
        "\n",
        "# pyopenjtalkのインストール\n",
        "!pip install -q pyopenjtalk"
      ],
      "metadata": {
        "id": "PPmrhm-QLvLa"
      },
      "execution_count": null,
      "outputs": []
    },
    {
      "cell_type": "markdown",
      "source": [
        "# Whisper set up"
      ],
      "metadata": {
        "id": "t57wYoRos7YI"
      }
    },
    {
      "cell_type": "code",
      "source": [
        "!pip install -q git+https://github.com/openai/whisper.git"
      ],
      "metadata": {
        "id": "mjybCcRXpmwy"
      },
      "execution_count": null,
      "outputs": []
    },
    {
      "cell_type": "code",
      "source": [
        "import whisper\n",
        "model = whisper.load_model(\"large\")"
      ],
      "metadata": {
        "id": "3GJ5PAGJqB16"
      },
      "execution_count": null,
      "outputs": []
    },
    {
      "cell_type": "code",
      "metadata": {
        "id": "fACHVqYZaEPW"
      },
      "source": [
        "# ローカルPCマイクでの録音設定\n",
        "\n",
        "from IPython.display import Javascript\n",
        "from google.colab import output\n",
        "from base64 import b64decode\n",
        "\n",
        "RECORD = \"\"\"\n",
        "const sleep = time => new Promise(resolve => setTimeout(resolve, time))\n",
        "const b2text = blob => new Promise(resolve => {\n",
        "  const reader = new FileReader()\n",
        "  reader.onloadend = e => resolve(e.srcElement.result)\n",
        "  reader.readAsDataURL(blob)\n",
        "})\n",
        "var record = time => new Promise(async resolve => {\n",
        "  stream = await navigator.mediaDevices.getUserMedia({ audio: true })\n",
        "  recorder = new MediaRecorder(stream)\n",
        "  chunks = []\n",
        "  recorder.ondataavailable = e => chunks.push(e.data)\n",
        "  recorder.start()\n",
        "  await sleep(time)\n",
        "  recorder.onstop = async ()=>{\n",
        "    blob = new Blob(chunks)\n",
        "    text = await b2text(blob)\n",
        "    resolve(text)\n",
        "  }\n",
        "  recorder.stop()\n",
        "})\n",
        "\"\"\"\n",
        "\n",
        "def record(sec, filename='audio.wav'):\n",
        "  display(Javascript(RECORD))\n",
        "  s = output.eval_js('record(%d)' % (sec * 1000))\n",
        "  b = b64decode(s.split(',')[1])\n",
        "  with open(filename, 'wb+') as f:\n",
        "    f.write(b)"
      ],
      "execution_count": null,
      "outputs": []
    },
    {
      "cell_type": "code",
      "source": [
        "!pip install -q mecab-python3\n",
        "!pip install -q unidic\n",
        "!pip install alkana\n",
        "!python -m unidic download"
      ],
      "metadata": {
        "id": "XdGFa62GRkd-"
      },
      "execution_count": null,
      "outputs": []
    },
    {
      "cell_type": "code",
      "metadata": {
        "id": "NRr97NaVaMqk",
        "cellView": "form"
      },
      "source": [
        "#@title Voice Changer\n",
        "import glob\n",
        "import librosa\n",
        "import IPython\n",
        "import MeCab\n",
        "import unidic\n",
        "import pandas as pd\n",
        "import alkana\n",
        "import re\n",
        "import os\n",
        "\n",
        "audiofile = \"audio.wav\"\n",
        "second = 10 #@param {type:\"number\"}\n",
        "print(f\"Speak to your microphone {second} sec...\")\n",
        "record(second, audiofile)\n",
        "print(\"Done!\")\n",
        "\n",
        "result = model.transcribe(\"audio.wav\", verbose=False, language=\"ja\")\n",
        "print(f'{result[\"text\"]}（英カナ変換前）')\n",
        "\n",
        "###英単語→カタカナ変換\n",
        "\n",
        "#半角英字判定\n",
        "alphaReg = re.compile(r'^[a-zA-Z]+$')\n",
        "def isalpha(s):\n",
        "    return alphaReg.match(s) is not None\n",
        "\n",
        "sample_txt = result[\"text\"]\n",
        "\n",
        "wakati = MeCab.Tagger('-Owakati')\n",
        "wakati_result = wakati.parse(sample_txt)\n",
        "#print(wakati_result)\n",
        "\n",
        "df = pd.DataFrame(wakati_result.split(\" \"),columns=[\"word\"])\n",
        "df = df[df[\"word\"].str.isalpha() == True]\n",
        "df[\"english_word\"] = df[\"word\"].apply(isalpha)\n",
        "df = df[df[\"english_word\"] == True]\n",
        "df[\"katakana\"] = df[\"word\"].apply(alkana.get_kana)\n",
        "\n",
        "dict_rep = dict(zip(df[\"word\"], df[\"katakana\"]))\n",
        "\n",
        "for word, read in dict_rep.items():\n",
        "    sample_txt = sample_txt.replace(word, read)\n",
        "\n",
        "sample_txt = sample_txt.replace(\" \", \"\")\n",
        "\n",
        "#半角記号削除\n",
        "#symbolReg = re.compile('[!\"#$%&\\'\\\\\\\\()*+,-./:;<=>?@[\\\\]^_`{|}~「」〔〕“”〈〉『』【】＆＊・（）＄＃＠。、？！｀＋￥％]')\n",
        "#sample_txt = symbolReg.sub(' ', sample_txt)\n",
        "\n",
        "print(f'{sample_txt}（英カナ変換後）')\n",
        "\n",
        "speacker_id = 0\n",
        "\n",
        "# make answer sound\n",
        "!python /content/voicevox_core/example/python/run.py \\\n",
        "    --text {sample_txt} \\\n",
        "    --speaker_id {speacker_id} \\\n",
        "    --f0_speaker_id 0 \\\n",
        "    --f0_correct 0 \\\n",
        "    --root_dir_path=\"/content/voicevox_core/release\" \\\n",
        "    --use_gpu\n",
        "\n",
        "#path = glob.glob(\"/content/voicevox_core/*.wav\")\n",
        "\n",
        "def sound():\n",
        "  audio_path = librosa.util.example_audio_file()\n",
        "  y_full, sr_full = librosa.load(f\"/content/voicevox_core/{sample_txt}-{speacker_id}.wav\")\n",
        "  return IPython.display.Audio(data = y_full, rate=sr_full, autoplay = True)\n",
        "\n",
        "sound()"
      ],
      "execution_count": null,
      "outputs": []
    },
    {
      "cell_type": "code",
      "source": [
        "# GPUの停止\n",
        "from google.colab import runtime\n",
        "runtime.unassign()"
      ],
      "metadata": {
        "id": "yj1cQbUJqYp5"
      },
      "execution_count": null,
      "outputs": []
    }
  ]
}